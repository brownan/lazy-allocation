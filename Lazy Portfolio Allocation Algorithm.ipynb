{
 "cells": [
  {
   "cell_type": "markdown",
   "id": "6abb31c2",
   "metadata": {},
   "source": [
    "# The Lazy Portfolio Allocation Algorithm\n",
    "\n",
    "The Lazy Portfolio Allocation Algorithm, first described by Albert H. Mao [1], is a way of keeping your portfolio balanced with regular contributions or withdraws, without the need for any explicit balancing operations. It takes a list of assets (which could be funds, accounts, etc), their current values, and their target or *desired* allocation percentage, as well as an amount to contribute. The algorithm then calculates the optimal way to split up the contribution between the assets such as to minimize each asset's deviation from the desired allocation.\n",
    "\n",
    "[1] [Optimal lazy portfolio rebalancing calculator](http://optimalrebalancing.tk/index.html)\n",
    "\n",
    "My goal is to expand on the original algorithm description, providing derivation of the formulas, an annotated reference implementation, and examples.\n"
   ]
  },
  {
   "cell_type": "markdown",
   "id": "5de9b56c",
   "metadata": {},
   "source": [
    "## Definitions\n",
    "\n",
    "* $a_n$ is the starting or \"actual\" amount in dollars in asset $n$\n",
    "* $d_n$ is the desired allocation of asset $n$ as a fraction in the range $0 \\ldots 1$\n",
    "* $C$ is the amount in dollars to contribute, or a negative amount to withdraw\n",
    "* $T = \\sum{a} + C$ is the total amount in all assets after the contributions\n",
    "* $t_n = T d_n$ is the target or \"ideal\" dollar amount in asset $n$"
   ]
  },
  {
   "cell_type": "markdown",
   "id": "6a4bc1f4",
   "metadata": {},
   "source": [
    "## Fractional Deviation\n",
    "\n",
    "The metric we want to optimize for each asset is\n",
    "\n",
    "\\begin{equation}f_n = a_n/t_n\n",
    "\\label{eq:fracdev}\n",
    "\\end{equation}\n",
    "\n",
    "which we call the *fractional deviation* or the fraction of an asset's current value out of its target value. This value will be less than 1 for under-allocated assets, and greater than 1 for over-allocated assets.\n",
    "\n",
    "The strategy is to first sort the assets by their fractional deviations such that the asset with the lowest deviation value—or most under-allocated—is first. Then contribute to the first asset an amount such that its fractional deviation is brought equal to that of the second asset. Then repeat for the first two assets: contribute an equal portion to assets one and two until their deviation equals the third asset, and so on.\n",
    "\n",
    "To bring asset 1 up to asset 2's deviation, add to it\n",
    "\n",
    "$$t_1 \\frac{a_2}{t_2} - a_1$$\n",
    "\n",
    "$a_2/t_2$ is asset 2's deviation, so $t_1 a_2 / t_2$ is the amount of money for asset 1 which would have the same deviation as asset 2. Then subtract $a_1$—the amount currently in asset 1—to get the amount to *add* to asset 1.\n",
    "\n",
    "We can re-arrange and simplify this expression using our definition for the fractional deviation \\eqref{eq:fracdev} to get:\n",
    "\n",
    "$$\\begin{aligned}\n",
    "t_1 \\frac{a_2}{t_2} - a_1 &= t_1 \\left( \\frac{a_2}{t_2} - \\frac{a_1}{t_1} \\right) \\\\\n",
    "&= t_1 (f_2 - f_1)\n",
    "\\end{aligned}\n",
    "$$\n",
    "\n",
    "We now have a general expression for the amount to add to asset $n$ to bring its deviation up to the deviation of asset $m$: add to it\n",
    "\n",
    "\\begin{equation}\n",
    "t_n (f_m - f_n)\n",
    "\\label{eq:assetcontrib}\n",
    "\\end{equation}\n",
    "\n",
    "After, the value of asset $n$ will be $t_n a_m / t_m$, which is off from its target value by the same proportion as asset $m$.\n",
    "\n",
    "> **Note:** In the original description of the algorithm [1], Mao defines the fractional deviation as $a_n/t_n - 1$ instead of $a_n/t_n$. However, this makes no difference to the equations derived in this paper, since they use the difference between two $f$ values."
   ]
  },
  {
   "cell_type": "markdown",
   "id": "7d0bf66f",
   "metadata": {},
   "source": [
    "## Contributions on Each Step\n",
    "\n",
    "Now we have the foundation to build the algorithm. We'll break things down into steps. Step 1 contributes to asset 1 until its fractional deviation reaches asset 2's. Step 2 contributes to assets 1 *and* 2 until their fractional deviations reach asset 3's. The steps repeat in this fashon until all contributions are used up.\n",
    "\n",
    "We know from \\eqref{eq:assetcontrib} that the amount to add to asset 1 to bring it up to asset 2's deviation is\n",
    "\n",
    "$$t_1(f_2 - f_1)$$\n",
    "\n",
    "which is also the total amount contributed in step 1.\n",
    "\n",
    "In step 2, we need to bring assets 1 *and* 2 up to the fractional deviation of step 3. To compute this, it's easier to compute the *total* amount to contribute to assets 1 *and* 2 for *both* steps 1 and 2, by using \\eqref{eq:assetcontrib} to bring both assets up to fractional deviation $f_3$:\n",
    "$$t_1(f_3 - f_1) + t_2(f_3 - f_2)$$\n",
    "and subtract back out the contributions from step 1:\n",
    "$$\\begin{aligned}\n",
    "t_1(f_3 - f_1) + t_2(f_3 - f_2) - t_1(f_2 - f_1) &= t_1 f_3 - t_1 f_1 + t_2 f_3 - t_2 f_2 - t_1 f_2 + t_1 f_1 \\\\\n",
    "&= t_1 f_3 + t_2 f_3 - t_2 f_2 - t_1 f_2 \\\\\n",
    "&= t_1(f_3 - f_2) + t_2(f_3 - f_2) \\\\\n",
    "&= (t_1 + t_2)(f_3 - f_2) \\\\\n",
    "\\end{aligned}\n",
    "$$\n",
    "And thus we have an expression for how much more to contribute in *just* step 2.\n",
    "\n",
    "We can generalize this pattern. Define $TC_n$ as the Total Contributions made after step $n$ (across all steps $1 \\ldots n$):\n",
    "\n",
    "\\begin{equation}\n",
    "TC_n = \\sum_{i=1}^{n}t_i (f_{n+1} - f_i)\n",
    "\\label{eq:TC}\n",
    "\\end{equation}\n",
    "\n",
    "This formula adds to each asset $1 \\ldots n$ an amount to bring the respective fractional deviations up to that of asset $n+1$. Then, to figure out the contributions for an individual step $n$, we compute:\n",
    "$$\\begin{aligned}\n",
    "TC_n - TC_{n-1} &= \\sum_{i=1}^{n}t_i(f_{n+1}-f_i) - \\sum_{i=1}^{n-1}t_i(f_{n}-f_i) \\\\\n",
    "&= \\sum_{i=1}^{n-1}t_i(f_{n+1}-f_i) + t_n(f_{n+1}-f_n) - \\sum_{i=1}^{n-1}t_i(f_n-f_i) \\\\\n",
    "&= \\sum_{i=1}^{n-1}\\left[ t_i (f_{n+1} - f_i) - t_i ( f_n - f_i ) \\right] + t_n (f_{n+1} - f_n) \\\\\n",
    "&= \\sum_{i=1}^{n-1}\\left[ t_i f_{n+1} - t_i f_i - t_i f_n + t_i f_i \\right] + t_n (f_{n+1} - f_n) \\\\\n",
    "&= \\sum_{i=1}^{n-1}\\left[ t_i f_{n+1} - t_i f_n \\right] + t_n (f_{n+1} - f_n) \\\\\n",
    "&= \\sum_{i=1}^{n-1}\\left[ t_i (f_{n+1} - f_n) \\right] + t_n (f_{n+1} - f_n) \\\\\n",
    "&= \\sum_{i=1}^{n} \\left[ t_i \\right] (f_{n+1} - f_n)\n",
    "\\end{aligned}\n",
    "$$\n",
    "\n",
    "We define a new label $r_n$ to be the \"running total\" of all asset target values from $1 \\ldots n$:\n",
    "\\begin{equation}\n",
    "r_n = \\sum_{i=1}^{n} t_i\n",
    "\\label{eq:runningtotal}\n",
    "\\end{equation}\n",
    "\n",
    "and so we can write the expression for the additional contributions added in step $n$ over step $n-1$ across all assets $1 \\ldots n$:\n",
    "\\begin{equation}\n",
    "TC_n - TC_{n-1} = r_n (f_{n+1} - f_n)\n",
    "\\label{eq:TC-step}\n",
    "\\end{equation}\n"
   ]
  },
  {
   "cell_type": "markdown",
   "id": "c0d2f295",
   "metadata": {},
   "source": [
    "## Computing the number of steps\n",
    "\n",
    "The algorithm should stop at a particular step $s$ if the amount needed for the next step ($TC_{s+1}$) equals or exceeds the original contribution amount $C$. So we must find the largest $s$ such that\n",
    "$$\\begin{aligned}\n",
    "TC_s &< C \\\\\n",
    "\\sum_{i=1}^{s} t_i (f_{s+1} - f_i) &< C\n",
    "\\end{aligned}\n",
    "$$\n",
    "\n",
    "We could do this by iteratively trying successive values for $s$ and computing $TC_s$, however since the definition for $TC_n$ involves a summation, this isn't very efficient. We can instead use the expression for $TC_n - TC_{n-1}$ \\eqref{eq:TC-step} that uses the running total $r_n$ \\eqref{eq:runningtotal} to compute the next $TC_n$ from the previous $TC_{n-1}$\n",
    "\n",
    "$$\\begin{aligned}\n",
    "TC_n &= r_n (f_{n+1} - f_n) + TC_{n-1} \\\\\n",
    "r_n &= r_{n-1} + t_n\n",
    "\\end{aligned}\n",
    "$$\n",
    "\n",
    "So each iteration of the algorithm we compute the new $r_n$ and the new $TC_n$. If $TC_n$ equals or exceeds $C$ then the algorithm must stop at $n-1$.\n",
    "\n",
    "> **Note:** The contributions $C$ may not exactly equal $TC$ at any particular step, in which case we'll have some money left over to distribute among the assets $1 \\ldots s+1$. We'll see how to compute this in the next section. To make the implementation easier, the stop condition is $TC_s < C$ instead of $TC_s \\le C$ so that our stopping step $s$ will always leave at least the final asset for use in the calculation for the “extra” money, even if $TC_s = C$ exactly."
   ]
  },
  {
   "cell_type": "markdown",
   "id": "d52648a4",
   "metadata": {},
   "source": [
    "## Computing the Contributions\n",
    "\n",
    "Once we have found the number of steps $s$ (the largest integer such that $TC_s < C$) then by the definition of step $s$, each asset $1 \\ldots s$ will be at fractional deviation $f_{s+1}$. Therefore, by \\eqref{eq:assetcontrib} the amount to contribute to each asset $n$ is given by\n",
    "\n",
    "$$\\Delta_n = \\begin{cases}\n",
    "t_n (f_{s+1} - f_n) & \\text{if $n \\le s$}\\\\\n",
    "0 & \\text{if $n > s$}\n",
    "\\end{cases}\n",
    "$$\n",
    "\n",
    "However, this only contributes a total of $TC_s$ dollars to assets $1 \\ldots s$. There is still $C - TC_s$ left to contribute. Since all assets $1 \\ldots s+1$ are at fractional deviation $f_{s+1}$, the leftover money is distributed proportionally across these $s+1$ assets.\n",
    "\n",
    "We do this by finding some new fractional deviation to increase assets $1 \\ldots s+1$ to such that it uses all our contributions exactly. We can do this by solving this equation.\n",
    "$$C = \\sum_{i=1}^{s+1} \\left[ t_i (f_{s+1} + X - f_i) \\right]$$\n",
    "In other words, we increase each asset's deviation to some amount over $f_{s+1}$ but $\\le f_{s+2}$ since then we would have increased the step $s$ instead.\n",
    "\n",
    "Now we can solve for $X$:\n",
    "\n",
    "$$\\begin{aligned}\n",
    "C &= \\sum_{i=1}^{s+1} \\left[ t_i (f_{s+1} + X - f_i) \\right] \\\\\n",
    "C &= \\sum_{i=1}^{s+1} \\left[ t_i (f_{s+1} - f_i) \\right] + \\sum_{i=1}^{s+1} \\left[ t_i X \\right] \\\\\n",
    "C &= \\sum_{i=1}^s \\left[ t_i (f_{s+1} - f_i) \\right] + t_{s+1} (f_{s+1} - f_{s+1}) + X r_{s+1} \\\\\n",
    "C &= TC_s + X r_{s+1} \\\\\n",
    "C - TC_s &= X r_{s+1} \\\\\n",
    "\\frac{C - TC_s}{r_{s+1}} &= X\n",
    "\\end{aligned}$$\n",
    "\n",
    "\n",
    "So after we find our final step $s$, we calculate the final fractional deviation value $f_f$ as\n",
    "\n",
    "\\begin{equation}\n",
    "f_f = f_{s+1} + \\frac{C - TC_s}{r_{s+1}}\n",
    "\\label{eq:finalfracdeviation}\n",
    "\\end{equation}\n",
    "\n",
    "and then calculate the final delta values as\n",
    "\n",
    "\\begin{equation}\n",
    "\\Delta_n = \\begin{cases}\n",
    "t_n (f_f - f_n) & \\text{if } n \\le s+1 \\\\\n",
    "0 & \\text{if } n > s+1\n",
    "\\end{cases}\n",
    "\\label{eq:delta}\n",
    "\\end{equation}\n"
   ]
  },
  {
   "cell_type": "markdown",
   "id": "7eeafd8f",
   "metadata": {},
   "source": [
    "# Implementation\n",
    "\n",
    "Presented here is a complete and commented implementation of the Lazy Allocation algorithm. The code handles a few edge cases not yet described, and will be explained in the following sections.\n"
   ]
  },
  {
   "cell_type": "code",
   "execution_count": 1,
   "id": "63fea43e",
   "metadata": {},
   "outputs": [],
   "source": [
    "from fractions import Fraction\n",
    "from dataclasses import dataclass\n",
    "from typing import List\n",
    "\n",
    "# This dataclass will hold information about each asset. All values are stored\n",
    "# using the Python Fraction class, which stores rational numbers as two\n",
    "# arbitrary precision integers in order to avoid arithmetic rounding errors.\n",
    "@dataclass\n",
    "class Asset:\n",
    "    # Actual (current) amount in dollars\n",
    "    a: Fraction\n",
    "\n",
    "    # Desired allocation, as a fraction between 0 and 1\n",
    "    # (all asset allocations should sum to 1)\n",
    "    d: Fraction\n",
    "\n",
    "    # Computed target amount in dollars\n",
    "    t: Fraction = None\n",
    "\n",
    "    # Computed fractional deviation\n",
    "    f: Fraction = None\n",
    "\n",
    "    # Computed amount to add to this asset\n",
    "    delta: Fraction = None\n",
    "\n",
    "\n",
    "\n",
    "def lazy_alloc(assets: List[Asset],\n",
    "               C: Fraction) -> List[Fraction]:\n",
    "    \"\"\"The Lazy Asset Allocation Algorithm\n",
    "\n",
    "    :param assets: A list of Asset objects with the 'actual' and 'allocation'\n",
    "        values filled in\n",
    "\n",
    "    :param C: The amount in dollars to contribute\n",
    "\n",
    "    :returns: The list of 'delta' values, or amount to contribute\n",
    "        to each asset\n",
    "\n",
    "    \"\"\"\n",
    "    # Compute the 'target' and 'f' values for each asset.\n",
    "    # Also annotate each asset with its index in the list, so we remember\n",
    "    # the original asset ordering\n",
    "    # Values we use are converted into Fraction types if not already.\n",
    "    T = sum(Fraction(asset.a) for asset in assets) + Fraction(C)\n",
    "    for asset_index, asset in enumerate(assets):\n",
    "        # To allow for a desired allocation of 0%, we have to set a minimum\n",
    "        # target value. A value of exactly 0 for the target would cause a zero\n",
    "        # division error when calculating the fractional deviation.\n",
    "        asset.t = T * Fraction(asset.d) or Fraction(\"0.001\")\n",
    "        asset.f = Fraction(asset.a) / asset.t\n",
    "        asset.i = asset_index\n",
    "    C = Fraction(C)\n",
    "\n",
    "    # Now we can order the assets by their fractional deviation, reversing the\n",
    "    # direction if we're withdrawing.\n",
    "    assets.sort(key=lambda asset: asset.f)\n",
    "    if C < 0:\n",
    "        assets.reverse()\n",
    "\n",
    "    # Each loop iteration computes these values for the current step.\n",
    "    # Note that Python lists are 0-indexed, and we start at step 0.\n",
    "    # Each loop iteration computes the TC for the current step, but if it\n",
    "    # exceeds C (or is the last step), then we \"back up\" and use prev_TC -- the\n",
    "    # previous step's TC -- to calculate the final fractional deviation.\n",
    "    step = 0\n",
    "    r = 0\n",
    "    prev_TC = 0\n",
    "\n",
    "    while True:\n",
    "        # Update this step's fractional deviation and the running total values\n",
    "        this_f = assets[step].f\n",
    "        r += assets[step].t\n",
    "\n",
    "        # First exit condition: if this is the last asset, then exit the loop.\n",
    "        # If we exit here, it indicates we have more money than required to\n",
    "        # bring all assets up to the last asset's fractional deviation. The\n",
    "        # remaining money (C - prev_TC) will be distributed to all assets.\n",
    "        if step + 1 == len(assets):\n",
    "            break\n",
    "\n",
    "        # Calculate the total contributions for the current step, so we can\n",
    "        # compare it against the contributions.\n",
    "        next_f = assets[step + 1].f\n",
    "        TC = prev_TC + r * (next_f - this_f)\n",
    "\n",
    "        # Second exit condition: TC for the current step exceeds the\n",
    "        # contributions. We've found the maximum step as described in the\n",
    "        # equations, which is `step-1`.\n",
    "        # We compare the absolute values since the signs are inverted when\n",
    "        # withdrawing.\n",
    "        if abs(TC) >= abs(C):\n",
    "            break\n",
    "\n",
    "        # Increment the loop variables for the next loop iteration\n",
    "        step += 1\n",
    "        prev_TC = TC\n",
    "\n",
    "    # We've exited the loop. The variable `step` has gone one *past* the final\n",
    "    # step as described in the equations. We therefore use prev_TC to compute\n",
    "    # the final fractional deviation.\n",
    "    f_f = this_f + (C - prev_TC) / r\n",
    "\n",
    "    for asset_index, asset in enumerate(assets):\n",
    "        # Again since our actual final step is `step-1`, we update all\n",
    "        # assets <=step (instead of `step+1` as given in the equations)\n",
    "        if asset_index <= step:\n",
    "            # Values are rounded to the nearest cent. This could cause the total\n",
    "            # of all delta values to not sum to the contributions. If this is\n",
    "            # a problem, take out the round() call for exact answers.\n",
    "            asset.delta = round(asset.t * (f_f - asset.f), 2)\n",
    "        else:\n",
    "            asset.delta = Fraction(0)\n",
    "\n",
    "    # Re-order the assets to their original ordering\n",
    "    assets.sort(key=lambda asset: asset.i)\n",
    "\n",
    "    # And return the delta values\n",
    "    return [asset.delta for asset in assets]"
   ]
  },
  {
   "cell_type": "markdown",
   "id": "eddf53fb",
   "metadata": {},
   "source": [
    "## Withdraws\n",
    "\n",
    "The basic algorithm works just fine in reverse with the following modifications:\n",
    "\n",
    "1. When withdrawing, we want to take money from the asset that is most *over*-allocated first, or has the *highest* fractional deviation. Therefore, we reverse the ordering of the assets after sorting by the fractional deviation.\n",
    "\n",
    "2. When $TC$ and $C$ are compared, we must compare the absolute values of each, since the signs are reversed when withdrawing."
   ]
  },
  {
   "cell_type": "markdown",
   "id": "e11d99fb",
   "metadata": {},
   "source": [
    "## 0% Allocations\n",
    "\n",
    "Sometimes it's useful to have an asset with 0% desired allocation, meaning no money will ever be contributed to it, and any withdraws should come from it first. This presents a problem, since the asset will have a target value\n",
    "\n",
    "\\begin{align*}\n",
    "t_n &= T d_n \\\\\n",
    "&= 0 \\\\\n",
    "\\end{align*}\n",
    "\n",
    "and a fractional deviation of\n",
    "\n",
    "\\begin{align*}\n",
    "f_n &= \\frac{a_n}{t_n} \\\\\n",
    "&= \\frac{a_n}{0} \\\\\n",
    "\\end{align*}\n",
    "\n",
    "To work around this, if the target value $t_n$ is calculated to be 0, then the code sets it to 0.001. The algorithm then works just the same, but the extra tenth of a penny is rounded away at the end."
   ]
  },
  {
   "cell_type": "markdown",
   "id": "eaccbbcd",
   "metadata": {},
   "source": [
    "## Rounding\n",
    "\n",
    "This implementation is careful to avoid operations on floating point or decimal numbers, and therefore avoids implicit rounding and imprecise representation errors inherint in floating point math. At the end, the delta values are explicitly rounded to two decimal places, partly to account for 0% allocations, but also just because currency values are typically only useful to two decimal places. The downside is that the total of all delta values may not exactly sum to the given contribution; it may be off by 0.01. For example, if contributing $100 to three assets, the values would be 33.33, 33.33, and 33.33, totaling 99.99.\n",
    "\n",
    "If this is not desired, the rounding may be removed. Then the answer would be 100/3 for the above example.\n",
    "\n",
    "When porting the code to an environment which lacks a comparible exact arithmetic library, the algorithm will still work, but rounding errors may cause slightly less precise results."
   ]
  },
  {
   "cell_type": "markdown",
   "id": "2e5e7889",
   "metadata": {},
   "source": [
    "# Examples\n",
    "\n",
    "This section will go over some examples to illustrate the algorithm. First we'll define a function to print an array of Fraction values displayed as decimals rounded to two places:"
   ]
  },
  {
   "cell_type": "code",
   "execution_count": 2,
   "id": "f253013d",
   "metadata": {},
   "outputs": [],
   "source": [
    "def print_fraction_list(l):\n",
    "    print(\", \".join(\n",
    "        \"${:.2f}\".format(float(i))\n",
    "        for i in l\n",
    "    ))"
   ]
  },
  {
   "cell_type": "markdown",
   "id": "77ba66c7",
   "metadata": {},
   "source": [
    "Now we can try out a few examples. Here's a simple example where two assets start with different values, but we want them to have equal allocation: 50% and 50%.\n",
    "\n"
   ]
  },
  {
   "cell_type": "code",
   "execution_count": 3,
   "id": "a77fc66c",
   "metadata": {},
   "outputs": [
    {
     "name": "stdout",
     "output_type": "stream",
     "text": [
      "$100.00, $0.00\n"
     ]
    }
   ],
   "source": [
    "print_fraction_list(lazy_alloc(\n",
    "    [Asset(100, 0.5), Asset(200, 0.5)],\n",
    "    100\n",
    "))"
   ]
  },
  {
   "cell_type": "markdown",
   "id": "452476df",
   "metadata": {},
   "source": [
    "<span class=\"tex2jax_ignore\">The result tells us that if we have $100.00 to contribute, add it all to the first asset, and none to the second.</span>\n",
    "\n",
    "---\n",
    "\n",
    "This example is the same as before, but this time we contribute $110.00, more than enough to balance the portfolio."
   ]
  },
  {
   "cell_type": "code",
   "execution_count": 4,
   "id": "b039bdd1",
   "metadata": {},
   "outputs": [
    {
     "name": "stdout",
     "output_type": "stream",
     "text": [
      "$105.00, $5.00\n"
     ]
    }
   ],
   "source": [
    "print_fraction_list(lazy_alloc(\n",
    "    [Asset(100, 0.5), Asset(200, 0.5)],\n",
    "    110,\n",
    "))"
   ]
  },
  {
   "cell_type": "markdown",
   "id": "c3738900",
   "metadata": {},
   "source": [
    "<span class=\"tex2jax_ignore\">$100.00 is added to the first asset as before, and the remaining $10.00 is distributed evenly among the two assets.</span>\n",
    "\n",
    "---\n",
    "\n",
    "In this example, if not enough contributions are given, it's all added to the most under-allocated asset."
   ]
  },
  {
   "cell_type": "code",
   "execution_count": 5,
   "id": "6f3b83a4",
   "metadata": {},
   "outputs": [
    {
     "name": "stdout",
     "output_type": "stream",
     "text": [
      "$50.00, $0.00\n"
     ]
    }
   ],
   "source": [
    "print_fraction_list(lazy_alloc(\n",
    "    [Asset(100, 0.5), Asset(200, 0.5)],\n",
    "    50\n",
    "))"
   ]
  },
  {
   "cell_type": "markdown",
   "id": "43ebc86e",
   "metadata": {},
   "source": [
    "---\n",
    "\n",
    "Here we show what happens when different allocations are desired. Both assets start with the same amount, but the desired allocations are 75% and 25%."
   ]
  },
  {
   "cell_type": "code",
   "execution_count": 6,
   "id": "a6d2760e",
   "metadata": {},
   "outputs": [
    {
     "name": "stdout",
     "output_type": "stream",
     "text": [
      "$200.00, $0.00\n"
     ]
    }
   ],
   "source": [
    "print_fraction_list(lazy_alloc(\n",
    "    [Asset(100, 0.75), Asset(100, 0.25)],\n",
    "    200\n",
    "))"
   ]
  },
  {
   "cell_type": "markdown",
   "id": "0bb2d993",
   "metadata": {},
   "source": [
    "<span class=\"tex2jax_ignore\">Note how all $200 are contributed to the first asset, which would bring both asset amounts to $300 and $100, balancing the portfolio to the desired 75% 25%.</span>\n",
    "\n",
    "---\n",
    "\n",
    "Same starting conditions and desired allocations, but with more money contributed. Any additional money is distributed proportionally between them, as show below:"
   ]
  },
  {
   "cell_type": "code",
   "execution_count": 7,
   "id": "51fcd3db",
   "metadata": {},
   "outputs": [
    {
     "name": "stdout",
     "output_type": "stream",
     "text": [
      "$275.00, $25.00\n"
     ]
    }
   ],
   "source": [
    "print_fraction_list(lazy_alloc(\n",
    "    [Asset(100, 0.75), Asset(100, 0.25)],\n",
    "    300,\n",
    "))"
   ]
  },
  {
   "cell_type": "markdown",
   "id": "e7ed7d1e",
   "metadata": {},
   "source": [
    "<span class=\"tex2jax_ignore\">The first $200 goes to the first asset as before, but the additional $100 is distributed proportionally among the two assets in order to keep them balanced at the desired 75% 25% allocations.</span>\n",
    "\n",
    "---\n",
    "\n",
    "Let's dig into one final example with many assets of different sizes and desired allocations."
   ]
  },
  {
   "cell_type": "code",
   "execution_count": 8,
   "id": "fc585612",
   "metadata": {},
   "outputs": [
    {
     "name": "stdout",
     "output_type": "stream",
     "text": [
      "$1029.41, $1470.59, $0.00\n"
     ]
    }
   ],
   "source": [
    "print_fraction_list(lazy_alloc(\n",
    "    [Asset(9000, 0.55), Asset(4000, 0.30), Asset(3500, 0.15)],\n",
    "    2500\n",
    "))"
   ]
  },
  {
   "cell_type": "markdown",
   "id": "6b2f5989",
   "metadata": {},
   "source": [
    "<span class=\"tex2jax_ignore\">\n",
    "In this example, the assets start out at these respective allocations: 55%, 24%, 21%, and we have $2,500 to contribute among them. Asset 1 is already at its target allocation, while asset 2 is under-allocated and asset 3 is over-allocated.\n",
    "\n",
    "The algorithm tells us to add $1,029.41 to asset 1, bringing it to $10,029.41, and add $1,470.59 to asset 2, bringing it to $5,470.59. Nothing is added to asset 3.\n",
    "\n",
    "This brings the respective asset allocations to 53%, 29%, and 18%. Note how asset 1's allocation is now off by 2%, worse than before, because it was necessary to bring the other assets closer to their targets allocations.\n",
    "</span>"
   ]
  },
  {
   "cell_type": "markdown",
   "id": "58de52a9",
   "metadata": {},
   "source": [
    "## Withdraws\n",
    "\n",
    "Here are some examples looking at withdrawing from the portfolio. As mentioned before, withdraws are specified with a negative contribution amount."
   ]
  },
  {
   "cell_type": "markdown",
   "id": "88611528",
   "metadata": {},
   "source": [
    "This example shows withdraws from two evenly allocated assets. The withdraws are taken equaly from both."
   ]
  },
  {
   "cell_type": "code",
   "execution_count": 9,
   "id": "cfd4dc33",
   "metadata": {},
   "outputs": [
    {
     "name": "stdout",
     "output_type": "stream",
     "text": [
      "$-50.00, $-50.00\n"
     ]
    }
   ],
   "source": [
    "print_fraction_list(lazy_alloc(\n",
    "    [Asset(100, 0.5), Asset(100, 0.5)],\n",
    "    -100\n",
    "))"
   ]
  },
  {
   "cell_type": "markdown",
   "id": "280d0787",
   "metadata": {},
   "source": [
    "---\n",
    "\n",
    "If one asset is over-allocated, then withdraws are taken from it first."
   ]
  },
  {
   "cell_type": "code",
   "execution_count": 10,
   "id": "0ea45b49",
   "metadata": {},
   "outputs": [
    {
     "name": "stdout",
     "output_type": "stream",
     "text": [
      "$-75.00, $-25.00\n"
     ]
    }
   ],
   "source": [
    "print_fraction_list(lazy_alloc(\n",
    "    [Asset(150, 0.5), Asset(100, 0.5)],\n",
    "    -100\n",
    "))"
   ]
  },
  {
   "cell_type": "markdown",
   "id": "2b82bfaa",
   "metadata": {},
   "source": [
    "---\n",
    "\n",
    "And like before, it works with many assets of different desired allocations"
   ]
  },
  {
   "cell_type": "code",
   "execution_count": 11,
   "id": "5b5bc596",
   "metadata": {},
   "outputs": [
    {
     "name": "stdout",
     "output_type": "stream",
     "text": [
      "$-1142.86, $0.00, $-1357.14\n"
     ]
    }
   ],
   "source": [
    "print_fraction_list(lazy_alloc(\n",
    "    [Asset(9000, 0.55), Asset(4000, 0.30), Asset(3500, 0.15)],\n",
    "    -2500\n",
    "))"
   ]
  },
  {
   "cell_type": "markdown",
   "id": "b42b846f",
   "metadata": {},
   "source": [
    "Let's dig into that example a bit more. The initial allocations for the three assets were 55%, 24%, and 21% respectively. Asset 1 ended up with $9000 - 1142.86 = 7857.14$ while asset 3 ended up with $3500 - 1357.14 = 2142.86$. This brings the relative allocation of the assets to 56%, 29%, and 15% respectively. Asset 2 was brought within 1% of its desired allocation without having to touch it at all!\n",
    "\n"
   ]
  }
 ],
 "metadata": {
  "authors": [
   {
    "name": "Andrew Brown"
   }
  ],
  "kernelspec": {
   "display_name": "Python 3 (ipykernel)",
   "language": "python",
   "name": "python3"
  },
  "language_info": {
   "codemirror_mode": {
    "name": "ipython",
    "version": 3
   },
   "file_extension": ".py",
   "mimetype": "text/x-python",
   "name": "python",
   "nbconvert_exporter": "python",
   "pygments_lexer": "ipython3",
   "version": "3.9.5"
  }
 },
 "nbformat": 4,
 "nbformat_minor": 5
}
